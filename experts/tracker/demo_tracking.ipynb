{
 "cells": [
  {
   "cell_type": "code",
   "execution_count": 1,
   "source": [
    "import autotracker as at\n",
    "%load_ext autoreload\n",
    "%autoreload 2\n",
    "\n",
    "# create a default detection model according to conda env.\n",
    "model = at.detection_utils.VideoPredictor()"
   ],
   "outputs": [
    {
     "output_type": "stream",
     "name": "stdout",
     "text": [
      "loading model\n"
     ]
    }
   ],
   "metadata": {}
  },
  {
   "cell_type": "code",
   "execution_count": 2,
   "source": [
    "import os\n",
    "\n",
    "# configure an experiment\n",
    "experiment_config  = dict(\n",
    "    detect_every=10,          # use detection model every `detect_every` frames (starting from 0) \n",
    "    merge_iou_threshold=0.5,  # required IOU score \n",
    "    tracker_type=at.tracking_utils.TRACKER_TYPE_KCF,  # trecker algorithm (KCF or CSRT)\n",
    "    refresh_on_detect=False   # if True, any object that isn't found by the model is removed\n",
    ")\n",
    "\n",
    "# choose movie. save in appropriate experiment fiile\n",
    "input_path = '/movies/scenecliptest00581.avi'\n",
    "output_path = os.path.splitext(os.path.basename(input_path))[0] + f'__{\",\".join(f\"{k}={v}\" for k, v in experiment_config.items())}'"
   ],
   "outputs": [],
   "metadata": {}
  },
  {
   "cell_type": "code",
   "execution_count": 3,
   "source": [
    "from TrackerAnnotator import TrackerAnnotator\n",
    "\n",
    "# do tracking with experiment config.\n",
    "tracking_data = at.tracking_utils.MultiTracker.track_video_objects(input_path,\n",
    "                                                                   model,\n",
    "                                                                   **experiment_config)\n",
    "# annotate video when tracking is complete.\n",
    "TrackerAnnotator().annotate_video(input_path, tracking_data, output_path)"
   ],
   "outputs": [
    {
     "output_type": "stream",
     "name": "stderr",
     "text": [
      "  0%|          | 0/94 [00:00<?, ?it/s]/home/guy/miniconda3/envs/detectron/lib/python3.9/site-packages/torch/_tensor.py:575: UserWarning: floor_divide is deprecated, and will be removed in a future version of pytorch. It currently rounds toward 0 (like the 'trunc' function NOT 'floor'). This results in incorrect rounding for negative values.\n",
      "To keep the current behavior, use torch.div(a, b, rounding_mode='trunc'), or for actual floor division, use torch.div(a, b, rounding_mode='floor'). (Triggered internally at  /pytorch/aten/src/ATen/native/BinaryOps.cpp:467.)\n",
      "  return torch.floor_divide(self, other)\n",
      "/home/guy/miniconda3/envs/detectron/lib/python3.9/site-packages/torch/nn/functional.py:718: UserWarning: Named tensors and all their associated APIs are an experimental feature and subject to change. Please do not use them for anything important until they are released as stable. (Triggered internally at  /pytorch/c10/core/TensorImpl.h:1156.)\n",
      "  return torch.max_pool2d(input, kernel_size, stride, padding, dilation, ceil_mode)\n",
      "100%|██████████| 94/94 [00:12<00:00,  7.83it/s]\n",
      "annotating /movies/scenecliptest00581.avi: 100%|██████████| 94/94 [00:02<00:00, 45.46it/s]\n"
     ]
    }
   ],
   "metadata": {}
  }
 ],
 "metadata": {
  "orig_nbformat": 4,
  "language_info": {
   "name": "python",
   "version": "3.9.6",
   "mimetype": "text/x-python",
   "codemirror_mode": {
    "name": "ipython",
    "version": 3
   },
   "pygments_lexer": "ipython3",
   "nbconvert_exporter": "python",
   "file_extension": ".py"
  },
  "kernelspec": {
   "name": "python3",
   "display_name": "Python 3.9.6 64-bit ('detectron': conda)"
  },
  "interpreter": {
   "hash": "f1eed08526ee63cda4a8ff9bda89da76bc83324dd7baec5374bda665ca756bd6"
  }
 },
 "nbformat": 4,
 "nbformat_minor": 2
}