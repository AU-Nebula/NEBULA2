{
 "cells": [
  {
   "cell_type": "code",
   "execution_count": 1,
   "source": [
    "import autotracker as at\n",
    "%load_ext autoreload\n",
    "%autoreload 2\n",
    "\n",
    "# create a default detection model according to conda env.\n",
    "model = at.detection_utils.VideoPredictor()"
   ],
   "outputs": [
    {
     "output_type": "stream",
     "name": "stdout",
     "text": [
      "loading model\n"
     ]
    }
   ],
   "metadata": {}
  },
  {
   "cell_type": "code",
   "execution_count": 4,
   "source": [
    "import os\n",
    "\n",
    "# configure an experiment\n",
    "experiment_config  = dict(\n",
    "    detect_every=10,          # use detection model every `detect_every` frames (starting from 0) \n",
    "    merge_iou_threshold=0.5,  # required IOU score \n",
    "    tracker_type=at.tracking_utils.TRACKER_TYPE_KCF,  # trecker algorithm (KCF or CSRT)\n",
    "    refresh_on_detect=False   # if True, any object that isn't found by the model is removed\n",
    ")\n",
    "\n",
    "# choose movie. save in appropriate experiment fiile\n",
    "input_path = '/movies/scenecliptest00581.avi'\n",
    "output_path = os.path.splitext(os.path.basename(input_path))[0] + f'__{\",\".join(f\"{k}={v}\" for k, v in experiment_config.items())}'"
   ],
   "outputs": [],
   "metadata": {}
  },
  {
   "cell_type": "code",
   "execution_count": 5,
   "source": [
    "from my_annotator import annotate_video\n",
    "\n",
    "# do tracking with experiment config.\n",
    "tracking_data = at.tracking_utils.MultiTracker.track_video_objects(input_path,\n",
    "                                                                   model,\n",
    "                                                                   **experiment_config)\n",
    "# annotate video when tracking is complete.\n",
    "annotate_video(input_path, tracking_data, output_path)"
   ],
   "outputs": [
    {
     "output_type": "stream",
     "name": "stderr",
     "text": [
      "100%|██████████| 94/94 [00:11<00:00,  8.00it/s]\n",
      "[ERROR:0] global /tmp/pip-req-build-agffqapq/opencv/modules/videoio/src/cap_ffmpeg_impl.hpp (2719) open Could not find encoder for codec_id=27, error: Encoder not found\n",
      "[ERROR:0] global /tmp/pip-req-build-agffqapq/opencv/modules/videoio/src/cap_ffmpeg_impl.hpp (2791) open VIDEOIO/FFMPEG: Failed to initialize VideoWriter\n",
      "[ERROR:0] global /tmp/pip-req-build-agffqapq/opencv/modules/videoio/src/cap.cpp (587) open VIDEOIO(CV_IMAGES): raised OpenCV exception:\n",
      "\n",
      "OpenCV(4.5.3) /tmp/pip-req-build-agffqapq/opencv/modules/videoio/src/cap_images.cpp:253: error: (-5:Bad argument) CAP_IMAGES: can't find starting number (in the name of file): /tmp/video_format_testmabkssl1/test_file.mkv in function 'icvExtractPattern'\n",
      "\n",
      "\n",
      "annotating /movies/scenecliptest00581.avi: 100%|██████████| 94/94 [00:01<00:00, 59.80it/s]\n"
     ]
    }
   ],
   "metadata": {}
  }
 ],
 "metadata": {
  "orig_nbformat": 4,
  "language_info": {
   "name": "python",
   "version": "3.9.6",
   "mimetype": "text/x-python",
   "codemirror_mode": {
    "name": "ipython",
    "version": 3
   },
   "pygments_lexer": "ipython3",
   "nbconvert_exporter": "python",
   "file_extension": ".py"
  },
  "kernelspec": {
   "name": "python3",
   "display_name": "Python 3.9.6 64-bit ('engines': conda)"
  },
  "interpreter": {
   "hash": "fe4a60dd89aa4efaaef7a8f393c60ff27f3e51647cd81e47361c5226402ee56a"
  }
 },
 "nbformat": 4,
 "nbformat_minor": 2
}