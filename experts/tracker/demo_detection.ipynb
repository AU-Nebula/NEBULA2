{
 "cells": [
  {
   "cell_type": "code",
   "execution_count": null,
   "source": [
    "import autotracker as at\n",
    "%matplotlib inline\n",
    "%load_ext autoreload\n",
    "%autoreload 2\n",
    "\n",
    "\n",
    "# check GPU usage\n",
    "print(\"Num GPUs Available: \", at.gpu_count())"
   ],
   "outputs": [],
   "metadata": {}
  },
  {
   "cell_type": "code",
   "execution_count": null,
   "source": [
    "# choose model cfg that is compatible with the current model backend\n",
    "# The model backend is chosen according to your curent active conda environment:\n",
    "#   - engines: detectron2\n",
    "#   - tflow:   tensorflow\n",
    "# Here are some examples of configurations for available backends.\n",
    "if at.active_detection_backend() == at.BACKEND_DETECTRON:  # detectron models\n",
    "    cfg = at.detection_utils.CFG_COCO_DETECTION_FerRCNN_X101_32x8d_FPN_LR3x  # best detection\n",
    "    # cfg = at.detection_utils.CFG_COCO_PANOPTIC_FPN_R101_LR3x  # best panoptic\n",
    "    # cfg = at.detection_utils.CFG_LVIS_SEGMENTATION_MRCNN_X101_32x8d_FPN_LR1x  # best LVIS\n",
    "    # cfg = at.detection_utils.CFG_CITISCAPE_SEGMENTATION_MRCNN_R50_FPN  # best cityscape\n",
    "else:  # tensorflow models\n",
    "    cfg = at.detection_utils.CFG_OID_V4_DETECTION_FerRCNN_INCEPTION_V2  # OID (600 classes)\n",
    "    # cfg = at.detection_utils.CFG_COCO_DETECTION_SSD_MOBILENET_V1  # COCO (92 classes)\n",
    "\n",
    "# create model with config\n",
    "predictor = at.detection_utils.VideoPredictor(cfg)"
   ],
   "outputs": [],
   "metadata": {}
  },
  {
   "cell_type": "code",
   "execution_count": null,
   "source": [
    "import os\n",
    "\n",
    "input_path = '/movies/scenecliptest00581.avi'\n",
    "output_path = os.path.splitext(os.path.basename(input_path))[0] + '__OUT'"
   ],
   "outputs": [],
   "metadata": {}
  },
  {
   "cell_type": "code",
   "execution_count": null,
   "source": [
    "preds = predictor.predict_video(\n",
    "    path_to_video=input_path,\n",
    "    # batch_size=4,           # you can control the batch size. This may cause CUDA OOM error\n",
    "    # pred_every=1,           # run on every `pred_every` frames, starting from frame 0 (first)\n",
    "    # show_pbar=True,         # set to `False` to hide the progress bar\n",
    "    # global_aggregator=None  # put predictions directly in some external aggregator (maybe Queue)\n",
    ")\n",
    "\n",
    "# the returned value is a list of predictoins, one for each processed frame.\n",
    "# a prediction is a dictionary in format:\n",
    "# {\n",
    "#   'detection_boxes': an list of lists. each list is a box for a single object in format xywh,\n",
    "#   'detection_scores': a list of floating points. this is the confidence for each object,\n",
    "#   'detection_classes': a list of string classes, e.g. \"person\", \"car\", \"mango\", ...\n",
    "# }\n",
    "preds"
   ],
   "outputs": [],
   "metadata": {}
  }
 ],
 "metadata": {
  "orig_nbformat": 4,
  "language_info": {
   "name": "python",
   "version": "3.9.6",
   "mimetype": "text/x-python",
   "codemirror_mode": {
    "name": "ipython",
    "version": 3
   },
   "pygments_lexer": "ipython3",
   "nbconvert_exporter": "python",
   "file_extension": ".py"
  },
  "kernelspec": {
   "name": "python3",
   "display_name": "Python 3.9.6 64-bit ('engines': conda)"
  },
  "interpreter": {
   "hash": "fe4a60dd89aa4efaaef7a8f393c60ff27f3e51647cd81e47361c5226402ee56a"
  }
 },
 "nbformat": 4,
 "nbformat_minor": 2
}