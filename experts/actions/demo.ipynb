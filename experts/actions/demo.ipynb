{
 "cells": [
  {
   "cell_type": "code",
   "execution_count": 1,
   "source": [
    "from action_detector import ActionDetector, SingleMovieFolder\n",
    "from action_detector.STEP.data.customize import CustomizedDataset, detection_collate\n",
    "from action_detector.STEP.data.augmentations import BaseTransform\n",
    "import torch\n",
    "%load_ext autoreload\n",
    "%autoreload 2\n",
    "\n",
    "det = ActionDetector()"
   ],
   "outputs": [
    {
     "output_type": "stream",
     "name": "stdout",
     "text": [
      "loading model\n",
      "Loading pretrained model from /home/guy/NEBULA2/experts/actions/action_detector/STEP/pretrained/ava_step.pth\n",
      "Building I3D model...\n",
      "Building I3D head for global branch...\n",
      "Building I3D head for global branch...\n",
      "Building I3D head for global branch...\n",
      "Building I3D head for context branch...\n"
     ]
    }
   ],
   "metadata": {}
  },
  {
   "cell_type": "code",
   "execution_count": 3,
   "source": [
    "out = det.predict_video(\n",
    "    path_to_video='Movies/92357362',  # path to the foler containing the video frames\n",
    "    im_format='frame%04d.jpg',\n",
    "    source_fps=30,\n",
    "    show_pbar=True,\n",
    "    num_workers=4\n",
    ")"
   ],
   "outputs": [
    {
     "output_type": "stream",
     "name": "stdout",
     "text": [
      "Datalist len:  90\n"
     ]
    },
    {
     "output_type": "stream",
     "name": "stderr",
     "text": [
      "100%|██████████| 12/12 [01:08<00:00,  5.70s/it]\n"
     ]
    }
   ],
   "metadata": {}
  },
  {
   "cell_type": "code",
   "execution_count": 5,
   "source": [
    "from my_annotator import *\n",
    "annotate_video('/home/guy/NEBULA2/experts/tracker/Movies/92357362/', out, 'annotations/92357362')"
   ],
   "outputs": [
    {
     "output_type": "stream",
     "name": "stderr",
     "text": [
      "annotating /home/guy/NEBULA2/experts/tracker/Movies/92357362/: 100%|██████████| 90/90 [00:01<00:00, 66.34it/s]\n"
     ]
    }
   ],
   "metadata": {}
  }
 ],
 "metadata": {
  "orig_nbformat": 4,
  "language_info": {
   "name": "python",
   "version": "3.9.7",
   "mimetype": "text/x-python",
   "codemirror_mode": {
    "name": "ipython",
    "version": 3
   },
   "pygments_lexer": "ipython3",
   "nbconvert_exporter": "python",
   "file_extension": ".py"
  },
  "kernelspec": {
   "name": "python3",
   "display_name": "Python 3.9.7 64-bit ('step': conda)"
  },
  "interpreter": {
   "hash": "f5854881c56e90a06fc0ee384091f865ee76cbf9ff4e12435dd628c4c1b8f9b3"
  }
 },
 "nbformat": 4,
 "nbformat_minor": 2
}