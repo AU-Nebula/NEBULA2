{
 "cells": [
  {
   "cell_type": "code",
   "execution_count": 1,
   "source": [
    "from action_detector import ActionDetector, SingleMovieFolder, VideoFile\n",
    "from action_detector.STEP.data.customize import CustomizedDataset, detection_collate\n",
    "from action_detector.STEP.data.augmentations import BaseTransform\n",
    "import torch\n",
    "%load_ext autoreload\n",
    "%autoreload 2\n",
    "\n",
    "det = ActionDetector()"
   ],
   "outputs": [],
   "metadata": {}
  },
  {
   "cell_type": "code",
   "execution_count": null,
   "source": [
    "out = det.predict_video(\n",
    "    path_to_video='Movies/92357362',  # path to the foler containing the video frames\n",
    "    im_format='frame%04d.jpg',\n",
    "    source_fps=30,\n",
    "    show_pbar=True,\n",
    "    num_workers=4\n",
    ")"
   ],
   "outputs": [],
   "metadata": {}
  },
  {
   "cell_type": "code",
   "execution_count": null,
   "source": [
    "from actions_annotator import *\n",
    "annotate_video('/home/guy/NEBULA2/experts/tracker/Movies/92357362/', out, 'annotations/92357362')"
   ],
   "outputs": [],
   "metadata": {}
  }
 ],
 "metadata": {
  "orig_nbformat": 4,
  "language_info": {
   "name": "python",
   "version": "3.9.7",
   "mimetype": "text/x-python",
   "codemirror_mode": {
    "name": "ipython",
    "version": 3
   },
   "pygments_lexer": "ipython3",
   "nbconvert_exporter": "python",
   "file_extension": ".py"
  },
  "kernelspec": {
   "name": "python3",
   "display_name": "Python 3.9.7 64-bit ('step': conda)"
  },
  "interpreter": {
   "hash": "f5854881c56e90a06fc0ee384091f865ee76cbf9ff4e12435dd628c4c1b8f9b3"
  }
 },
 "nbformat": 4,
 "nbformat_minor": 2
}